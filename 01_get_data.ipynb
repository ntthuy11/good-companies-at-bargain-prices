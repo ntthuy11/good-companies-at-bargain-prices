{
 "cells": [
  {
   "cell_type": "code",
   "execution_count": 1,
   "id": "39560eab",
   "metadata": {
    "code_folding": [
     0
    ]
   },
   "outputs": [],
   "source": [
    "# ----------- imports\n",
    "\n",
    "import pandas as pd \n",
    "import io\n",
    "import requests\n",
    "import time\n",
    "\n",
    "import yfinance as yf  # https://github.com/ranaroussi/yfinance"
   ]
  },
  {
   "cell_type": "code",
   "execution_count": 41,
   "id": "6cae2995",
   "metadata": {},
   "outputs": [],
   "source": [
    "# ----------- parameters\n",
    "\n",
    "EXCHANGE_LIST = ['nyse', 'nasdaq', 'amex']  # from https://www.nasdaq.com/market-activity/stocks/screener\n",
    "# EXCHANGE_LIST = ['nyse']\n",
    "MARKET_CAP_MIN = 100000  # in millions\n",
    "\n",
    "EXPORT_TO_CSV_FILE = 'data.csv'\n",
    "\n",
    "# constants (do not change)\n",
    "COUNTRY_USA = 'United States'\n",
    "ONE_MILLION = 1000000"
   ]
  },
  {
   "cell_type": "code",
   "execution_count": 3,
   "id": "26fc27b7",
   "metadata": {
    "code_folding": [
     0
    ]
   },
   "outputs": [],
   "source": [
    "# ----------- support functions\n",
    "\n",
    "# headers and params used to bypass NASDAQ's anti-scraping mechanism in function __exchange2df\n",
    "nasdaq_headers = {\n",
    "    'authority': 'api.nasdaq.com',\n",
    "    'accept': 'application/json, text/plain, */*',\n",
    "    'user-agent': 'Mozilla/5.0 (X11; Linux x86_64) AppleWebKit/537.36 (KHTML, like Gecko) Chrome/83.0.4103.116 Safari/537.36',\n",
    "    'origin': 'https://www.nasdaq.com',\n",
    "    'sec-fetch-site': 'same-site',\n",
    "    'sec-fetch-mode': 'cors',\n",
    "    'sec-fetch-dest': 'empty',\n",
    "    'referer': 'https://www.nasdaq.com/',\n",
    "    'accept-language': 'en-US,en;q=0.9',\n",
    "}\n",
    "\n",
    "def nasdaq_params(exchange):\n",
    "    return (\n",
    "        ('letter', '0'),\n",
    "        ('exchange', exchange),\n",
    "        ('download', 'true'),\n",
    "    )\n",
    "\n",
    "def exchange_to_df(exchange):\n",
    "    # ref: https://github.com/shilewenuw/get_all_tickers\n",
    "    r = requests.get('https://api.nasdaq.com/api/screener/stocks', \\\n",
    "                     headers=nasdaq_headers, params=nasdaq_params(exchange))\n",
    "    data = r.json()['data']\n",
    "    df = pd.DataFrame(data['rows'], columns=data['headers'])\n",
    "    df_filtered = df[~df['symbol'].str.contains(\"\\.|\\^\")]  # remove weird tickers\n",
    "    return df_filtered\n",
    "\n",
    "def df_of_nyse_nasdaq_amex():\n",
    "    df_all = pd.DataFrame()\n",
    "    \n",
    "    for exchange in EXCHANGE_LIST:\n",
    "        start_time = time.time()\n",
    "\n",
    "        df = exchange_to_df(exchange)\n",
    "        df = df[df['country'] == COUNTRY_USA]  # only US companies\n",
    "        df = df[df['marketCap'] != '']  # no empty market cap\n",
    "        df = df[df['marketCap'].astype(float) >= MARKET_CAP_MIN * ONE_MILLION]  # filter by market cap\n",
    "        \n",
    "        df_all = df_all.append(df, ignore_index=True)\n",
    "        \n",
    "        print('  %s (US companies > %s millions): %.2f seconds' % \\\n",
    "              (exchange, MARKET_CAP_MIN, time.time() - start_time))\n",
    "    return df_all"
   ]
  },
  {
   "cell_type": "code",
   "execution_count": 4,
   "id": "89ae8a24",
   "metadata": {},
   "outputs": [
    {
     "name": "stdout",
     "output_type": "stream",
     "text": [
      "Exchange list:\n",
      "  nyse (US companies > 100000 millions): 2.68 seconds\n",
      "  nasdaq (US companies > 100000 millions): 5.23 seconds\n",
      "  amex (US companies > 100000 millions): 1.25 seconds\n"
     ]
    }
   ],
   "source": [
    "# ----------- pull data and store to dataframe (US companies with MARKET_CAP_MIN)\n",
    "\n",
    "print('Exchange list:')\n",
    "df_usa_mktcap = df_of_nyse_nasdaq_amex()"
   ]
  },
  {
   "cell_type": "code",
   "execution_count": 5,
   "id": "36608f1c",
   "metadata": {},
   "outputs": [
    {
     "name": "stdout",
     "output_type": "stream",
     "text": [
      "Total number of tickers: 87\n"
     ]
    }
   ],
   "source": [
    "# ----------- get only the tickers/symbols\n",
    "\n",
    "tickers_usa_mktcap = df_usa_mktcap['symbol'].tolist()\n",
    "# print('Total number of tickers: %s' % (len(tickers_usa_mktcap)))\n",
    "\n",
    "# manually add DASH to the ticker list\n",
    "tickers_usa_mktcap.append('DASH')\n",
    "print('Total number of tickers: %s' % (len(tickers_usa_mktcap)))"
   ]
  },
  {
   "cell_type": "code",
   "execution_count": 8,
   "id": "71079403",
   "metadata": {
    "code_folding": [
     0
    ]
   },
   "outputs": [],
   "source": [
    "# ----------- check the data that yfinance support\n",
    "\n",
    "# msft = yf.Ticker(\"MSFT\")  # use Microsoft as an example"
   ]
  },
  {
   "cell_type": "code",
   "execution_count": null,
   "id": "4ecc1f5c",
   "metadata": {
    "code_folding": [
     0
    ]
   },
   "outputs": [],
   "source": [
    "# msft.info  # equivalent to https://in.finance.yahoo.com/quote/MSFT/key-statistics?p=MSFT\n",
    "\n",
    "# Output:\n",
    "\n",
    "# {'zip': '98052-6399',\n",
    "#  'sector': 'Technology',\n",
    "#  'fullTimeEmployees': 163000,\n",
    "#  'longBusinessSummary': 'Microsoft Corporation develops, licenses, and supports software, services, devices, and solutions worldwide. Its Productivity and Business Processes segment offers Office, Exchange, SharePoint, Microsoft Teams, Office 365 Security and Compliance, and Skype for Business, as well as related Client Access Licenses (CAL); Skype, Outlook.com, OneDrive, and LinkedIn; and Dynamics 365, a set of cloud-based and on-premises business solutions for small and medium businesses, organizations, and enterprise divisions. Its Intelligent Cloud segment licenses SQL and Windows Servers, Visual Studio, System Center, and related CALs; GitHub that provides a collaboration platform and code hosting service for developers; and Azure, a cloud platform. It also offers support services and Microsoft consulting services to assist customers in developing, deploying, and managing Microsoft server and desktop solutions; and training and certification to developers and IT professionals on Microsoft products. Its More Personal Computing segment provides Windows original equipment manufacturer (OEM) licensing and other non-volume licensing of the Windows operating system; Windows Commercial, such as volume licensing of the Windows operating system, Windows cloud services, and other Windows commercial offerings; patent licensing; Windows Internet of Things; and MSN advertising. It also offers Surface, PC accessories, PCs, tablets, gaming and entertainment consoles, and other devices; Gaming, including Xbox hardware, and Xbox content and services; video games and third-party video game royalties; and Search, including Bing and Microsoft advertising. It sells its products through OEMs, distributors, and resellers; and directly through digital marketplaces, online stores, and retail stores. It has a collaboration with DXC Technology, Dynatrace, Inc., Morgan Stanley, Micro Focus, WPP plc, and iCIMS, Inc. The company was founded in 1975 and is headquartered in Redmond, Washington.',\n",
    "#  'city': 'Redmond',\n",
    "#  'phone': '425 882 8080',\n",
    "#  'state': 'WA',\n",
    "#  'country': 'United States',\n",
    "#  'companyOfficers': [],\n",
    "#  'website': 'http://www.microsoft.com',\n",
    "#  'maxAge': 1,\n",
    "#  'address1': 'One Microsoft Way',\n",
    "#  'industry': 'Software—Infrastructure',\n",
    "#  'previousClose': 266.69,\n",
    "#  'regularMarketOpen': 266.23,\n",
    "#  'twoHundredDayAverage': 240.0639,\n",
    "#  'trailingAnnualDividendYield': 0.008211781,\n",
    "#  'payoutRatio': 0.2916,\n",
    "#  'volume24Hr': None,\n",
    "#  'regularMarketDayHigh': 267.25,\n",
    "#  'navPrice': None,\n",
    "#  'averageDailyVolume10Day': 25841766,\n",
    "#  'totalAssets': None,\n",
    "#  'regularMarketPreviousClose': 266.69,\n",
    "#  'fiftyDayAverage': 252.55824,\n",
    "#  'trailingAnnualDividendRate': 2.19,\n",
    "#  'open': 266.23,\n",
    "#  'toCurrency': None,\n",
    "#  'averageVolume10days': 25841766,\n",
    "#  'expireDate': None,\n",
    "#  'yield': None,\n",
    "#  'algorithm': None,\n",
    "#  'dividendRate': 2.24,\n",
    "#  'exDividendDate': 1629244800,\n",
    "#  'beta': 0.78913,\n",
    "#  'circulatingSupply': None,\n",
    "#  'startDate': None,\n",
    "#  'regularMarketDayLow': 264.76,\n",
    "#  'priceHint': 2,\n",
    "#  'currency': 'USD',\n",
    "#  'trailingPE': 36.116108,\n",
    "#  'regularMarketVolume': 25611113,\n",
    "#  'lastMarket': None,\n",
    "#  'maxSupply': None,\n",
    "#  'openInterest': None,\n",
    "#  'marketCap': 1996016582656,\n",
    "#  'volumeAllCurrencies': None,\n",
    "#  'strikePrice': None,\n",
    "#  'averageVolume': 25470776,\n",
    "#  'priceToSalesTrailing12Months': 12.477521,\n",
    "#  'dayLow': 264.76,\n",
    "#  'ask': 265.17,\n",
    "#  'ytdReturn': None,\n",
    "#  'askSize': 1300,\n",
    "#  'volume': 25611113,\n",
    "#  'fiftyTwoWeekHigh': 267.85,\n",
    "#  'forwardPE': 31.663082,\n",
    "#  'fromCurrency': None,\n",
    "#  'fiveYearAvgDividendYield': 1.6,\n",
    "#  'fiftyTwoWeekLow': 193.55,\n",
    "#  'bid': 265.02,\n",
    "#  'tradeable': False,\n",
    "#  'dividendYield': 0.0084,\n",
    "#  'bidSize': 800,\n",
    "#  'dayHigh': 267.25,\n",
    "#  'exchange': 'NMS',\n",
    "#  'shortName': 'Microsoft Corporation',\n",
    "#  'longName': 'Microsoft Corporation',\n",
    "#  'exchangeTimezoneName': 'America/New_York',\n",
    "#  'exchangeTimezoneShortName': 'EDT',\n",
    "#  'isEsgPopulated': False,\n",
    "#  'gmtOffSetMilliseconds': '-14400000',\n",
    "#  'quoteType': 'EQUITY',\n",
    "#  'symbol': 'MSFT',\n",
    "#  'messageBoardId': 'finmb_21835',\n",
    "#  'market': 'us_market',\n",
    "#  'annualHoldingsTurnover': None,\n",
    "#  'enterpriseToRevenue': 12.283,\n",
    "#  'beta3Year': None,\n",
    "#  'profitMargins': 0.35016,\n",
    "#  'enterpriseToEbitda': 25.998,\n",
    "#  '52WeekChange': 0.33551705,\n",
    "#  'morningStarRiskRating': None,\n",
    "#  'forwardEps': 8.37,\n",
    "#  'revenueQuarterlyGrowth': None,\n",
    "#  'sharesOutstanding': 7531570176,\n",
    "#  'fundInceptionDate': None,\n",
    "#  'annualReportExpenseRatio': None,\n",
    "#  'bookValue': 17.853,\n",
    "#  'sharesShort': 48137624,\n",
    "#  'sharesPercentSharesOut': 0.0064,\n",
    "#  'fundFamily': None,\n",
    "#  'lastFiscalYearEnd': 1593475200,\n",
    "#  'heldPercentInstitutions': 0.72173,\n",
    "#  'netIncomeToCommon': 56014999552,\n",
    "#  'trailingEps': 7.338,\n",
    "#  'lastDividendValue': 0.56,\n",
    "#  'SandP52WeekChange': 0.4020188,\n",
    "#  'priceToBook': 14.844563,\n",
    "#  'heldPercentInsiders': 0.00071999995,\n",
    "#  'nextFiscalYearEnd': 1656547200,\n",
    "#  'mostRecentQuarter': 1617148800,\n",
    "#  'shortRatio': 2.24,\n",
    "#  'sharesShortPreviousMonthDate': 1620950400,\n",
    "#  'floatShares': 7420408511,\n",
    "#  'enterpriseValue': 1964842680320,\n",
    "#  'threeYearAverageReturn': None,\n",
    "#  'lastSplitDate': 1045526400,\n",
    "#  'lastSplitFactor': '2:1',\n",
    "#  'legalType': None,\n",
    "#  'lastDividendDate': 1621382400,\n",
    "#  'morningStarOverallRating': None,\n",
    "#  'earningsQuarterlyGrowth': 0.438,\n",
    "#  'dateShortInterest': 1623715200,\n",
    "#  'pegRatio': 1.98,\n",
    "#  'lastCapGain': None,\n",
    "#  'shortPercentOfFloat': 0.0064,\n",
    "#  'sharesShortPriorMonth': 40526093,\n",
    "#  'impliedSharesOutstanding': None,\n",
    "#  'category': None,\n",
    "#  'fiveYearAverageReturn': None,\n",
    "#  'regularMarketPrice': 265.02,\n",
    "#  'logo_url': 'https://logo.clearbit.com/microsoft.com'}"
   ]
  },
  {
   "cell_type": "code",
   "execution_count": 7,
   "id": "23663d48",
   "metadata": {
    "code_folding": [
     0
    ]
   },
   "outputs": [],
   "source": [
    "# print(msft.history(period=\"max\"))\n",
    "\n",
    "# Output:\n",
    "\n",
    "#                  Open        High         Low       Close      Volume    Dividends  Stock Splits\n",
    "# Date                                                                     \n",
    "# 1986-03-13    0.056108    0.064359    0.056108    0.061608  1031788800         0.0           0.0\n",
    "# 1986-03-14    0.061608    0.064909    0.061608    0.063809   308160000         0.0           0.0\n",
    "# 1986-03-17    0.063809    0.065459    0.063809    0.064909   133171200         0.0           0.0\n",
    "# 1986-03-18    0.064909    0.065459    0.062708    0.063258    67766400         0.0           0.0\n",
    "# 1986-03-19    0.063258    0.063809    0.061608    0.062158    47894400         0.0           0.0\n",
    "# ...                ...         ...         ...         ...         ...   \n",
    "# 2021-06-21  259.820007  263.519989  257.920013  262.630005    26696100         0.0           0.0\n",
    "# 2021-06-22  262.720001  265.790009  262.399994  265.510010    24694100         0.0           0.0\n",
    "# 2021-06-23  265.989990  266.829987  264.429993  265.269989    19518700         0.0           0.0\n",
    "# 2021-06-24  266.160004  267.850006  265.470001  266.690002    21446900         0.0           0.0\n",
    "# 2021-06-25  266.230011  267.250000  264.760010  265.019989    25604200         0.0           0.0\n",
    "# [8895 rows x 7 columns]"
   ]
  },
  {
   "cell_type": "code",
   "execution_count": 9,
   "id": "256d1065",
   "metadata": {
    "code_folding": [
     0
    ]
   },
   "outputs": [],
   "source": [
    "# print(msft.actions)\n",
    "\n",
    "# Output:\n",
    "\n",
    "#             Dividends  Stock Splits\n",
    "# Date                               \n",
    "# 1987-09-21       0.00           2.0\n",
    "# 1990-04-16       0.00           2.0\n",
    "# 1991-06-27       0.00           1.5\n",
    "# 1992-06-15       0.00           1.5\n",
    "# 1994-05-23       0.00           2.0\n",
    "# ...               ...           ...\n",
    "# 2020-05-20       0.51           0.0\n",
    "# 2020-08-19       0.51           0.0\n",
    "# 2020-11-18       0.56           0.0\n",
    "# 2021-02-17       0.56           0.0\n",
    "# 2021-05-19       0.56           0.0\n",
    "# [79 rows x 2 columns]"
   ]
  },
  {
   "cell_type": "code",
   "execution_count": 10,
   "id": "455b78a2",
   "metadata": {
    "code_folding": [
     0
    ]
   },
   "outputs": [],
   "source": [
    "# msft.dividends\n",
    "\n",
    "# Output:\n",
    "\n",
    "# Date\n",
    "# 2003-02-19    0.08\n",
    "# 2003-10-15    0.16\n",
    "# 2004-08-23    0.08\n",
    "# 2004-11-15    3.08\n",
    "# 2005-02-15    0.08\n",
    "#               ... \n",
    "# 2020-05-20    0.51\n",
    "# 2020-08-19    0.51\n",
    "# 2020-11-18    0.56\n",
    "# 2021-02-17    0.56\n",
    "# 2021-05-19    0.56\n",
    "# Name: Dividends, Length: 70, dtype: float64"
   ]
  },
  {
   "cell_type": "code",
   "execution_count": 11,
   "id": "0a3cdf9c",
   "metadata": {
    "code_folding": [
     0
    ]
   },
   "outputs": [],
   "source": [
    "# msft.splits\n",
    "\n",
    "# Output:\n",
    "\n",
    "# Date\n",
    "# 1987-09-21    2.0\n",
    "# 1990-04-16    2.0\n",
    "# 1991-06-27    1.5\n",
    "# 1992-06-15    1.5\n",
    "# 1994-05-23    2.0\n",
    "# 1996-12-09    2.0\n",
    "# 1998-02-23    2.0\n",
    "# 1999-03-29    2.0\n",
    "# 2003-02-18    2.0\n",
    "# Name: Stock Splits, dtype: float64"
   ]
  },
  {
   "cell_type": "code",
   "execution_count": 12,
   "id": "18bfdf2c",
   "metadata": {
    "code_folding": [
     0
    ]
   },
   "outputs": [],
   "source": [
    "# print(msft.financials)  # equivalent to https://in.finance.yahoo.com/quote/MSFT/financials?p=MSFT\n",
    "\n",
    "# Output:\n",
    "\n",
    "#                                             2020-06-30      2019-06-30      2018-06-30     2017-06-30\n",
    "# Research Development                     19269000000.0   16876000000.0   14726000000.0  13037000000.0\n",
    "# Effect Of Accounting Charges                      None            None            None           None\n",
    "# Income Before Tax                        53036000000.0   43688000000.0   36474000000.0  29901000000.0\n",
    "# Minority Interest                                 None            None            None           None\n",
    "# Net Income                               44281000000.0   39240000000.0   16571000000.0  25489000000.0\n",
    "# Selling General Administrative           24709000000.0   23098000000.0   22223000000.0  19942000000.0\n",
    "# Gross Profit                             96937000000.0   82933000000.0   72007000000.0  62310000000.0\n",
    "# Ebit                                     52959000000.0   42959000000.0   35058000000.0  29331000000.0\n",
    "# Operating Income                         52959000000.0   42959000000.0   35058000000.0  29331000000.0\n",
    "# Other Operating Expenses                          None            None            None           None\n",
    "# Interest Expense                         -2591000000.0   -2686000000.0   -2733000000.0  -2222000000.0\n",
    "# Extraordinary Items                               None            None            None           None\n",
    "# Non Recurring                                     None            None            None           None\n",
    "# Other Items                                       None            None            None           None\n",
    "# Income Tax Expense                        8755000000.0    4448000000.0   19903000000.0   4412000000.0\n",
    "# Total Revenue                           143015000000.0  125843000000.0  110360000000.0  96571000000.0\n",
    "# Total Operating Expenses                 90056000000.0   82884000000.0   75302000000.0  67240000000.0\n",
    "# Cost Of Revenue                          46078000000.0   42910000000.0   38353000000.0  34261000000.0\n",
    "# Total Other Income Expense Net              77000000.0     729000000.0    1416000000.0    570000000.0\n",
    "# Discontinued Operations                           None            None            None           None\n",
    "# Net Income From Continuing Ops           44281000000.0   39240000000.0   16571000000.0  25489000000.0\n",
    "# Net Income Applicable To Common Shares   44281000000.0   39240000000.0   16571000000.0  25489000000.0"
   ]
  },
  {
   "cell_type": "code",
   "execution_count": 13,
   "id": "8fd0f3f4",
   "metadata": {
    "code_folding": [
     0
    ]
   },
   "outputs": [],
   "source": [
    "# print(msft.quarterly_financials)\n",
    "\n",
    "# Output:\n",
    "\n",
    "#                                            2021-03-31     2020-12-31      2020-09-30     2020-06-30\n",
    "# Research Development                     5204000000.0   4899000000.0    4926000000.0   5214000000.0\n",
    "# Effect Of Accounting Charges                     None           None            None           None\n",
    "# Income Before Tax                       17236000000.0  18337000000.0   16124000000.0  13422000000.0\n",
    "# Minority Interest                                None           None            None           None\n",
    "# Net Income                              15457000000.0  15463000000.0   13893000000.0  11202000000.0\n",
    "# Selling General Administrative           6409000000.0   6086000000.0    5350000000.0   7073000000.0\n",
    "# Gross Profit                            28661000000.0  28882000000.0   26152000000.0  25694000000.0\n",
    "# Ebit                                    17048000000.0  17897000000.0   15876000000.0  13407000000.0\n",
    "# Operating Income                        17048000000.0  17897000000.0   15876000000.0  13407000000.0\n",
    "# Other Operating Expenses                         None           None            None           None\n",
    "# Interest Expense                         -628000000.0   -568000000.0    -585000000.0   -684000000.0\n",
    "# Extraordinary Items                              None           None            None           None\n",
    "# Non Recurring                                    None           None            None           None\n",
    "# Other Items                                      None           None            None           None\n",
    "# Income Tax Expense                       1779000000.0   2874000000.0    2231000000.0   2220000000.0\n",
    "# Total Revenue                           41706000000.0  43076000000.0   37154000000.0  38033000000.0\n",
    "# Total Operating Expenses                24658000000.0  25179000000.0   21278000000.0  24626000000.0\n",
    "# Cost Of Revenue                         13045000000.0  14194000000.0   11002000000.0  12339000000.0\n",
    "# Total Other Income Expense Net            188000000.0    440000000.0     248000000.0     15000000.0\n",
    "# Discontinued Operations                          None           None            None           None\n",
    "# Net Income From Continuing Ops          15457000000.0  15463000000.0   13893000000.0  11202000000.0\n",
    "# Net Income Applicable To Common Shares  15457000000.0  15463000000.0   13893000000.0  11202000000.0"
   ]
  },
  {
   "cell_type": "code",
   "execution_count": 14,
   "id": "a208fadd",
   "metadata": {
    "code_folding": [
     0
    ]
   },
   "outputs": [],
   "source": [
    "# print(msft.major_holders)\n",
    "\n",
    "# Output:\n",
    "\n",
    "#         0                                      1\n",
    "# 0   0.07%        % of Shares Held by All Insider\n",
    "# 1  72.17%       % of Shares Held by Institutions\n",
    "# 2  72.22%        % of Float Held by Institutions\n",
    "# 3    5329  Number of Institutions Holding Shares"
   ]
  },
  {
   "cell_type": "code",
   "execution_count": 15,
   "id": "1a6360a4",
   "metadata": {
    "code_folding": [
     0
    ]
   },
   "outputs": [],
   "source": [
    "# print(msft.institutional_holders)\n",
    "\n",
    "# Output:\n",
    "\n",
    "#                               Holder     Shares Date Reported   % Out          Value\n",
    "# 0         Vanguard Group, Inc. (The)  610849992    2021-03-30  0.0811   144020102613\n",
    "# 1                     Blackrock Inc.  518649291    2021-03-30  0.0689   122281943339\n",
    "# 2           State Street Corporation  292575655    2021-03-30  0.0388    68980562179\n",
    "# 3                           FMR, LLC  217585928    2021-03-30  0.0289    51300234244\n",
    "# 4      Price (T.Rowe) Associates Inc  178824616    2021-03-30  0.0237    42161479714\n",
    "# 5      Geode Capital Management, LLC  120231394    2021-03-30  0.0160    28346955763\n",
    "# 6            Capital World Investors  112150578    2021-03-30  0.0149    26441741775\n",
    "# 7  Capital Research Global Investors   99286940    2021-03-30  0.0132    23408881843\n",
    "# 8    Capital International Investors   90228967    2021-03-30  0.0120    21273283549\n",
    "# 9         Northern Trust Corporation   89762724    2021-03-30  0.0119    21163357437"
   ]
  },
  {
   "cell_type": "code",
   "execution_count": 16,
   "id": "71d3bae7",
   "metadata": {
    "code_folding": [
     0
    ]
   },
   "outputs": [],
   "source": [
    "# print(msft.balance_sheet)  # equivalent to https://in.finance.yahoo.com/quote/MSFT/balance-sheet?p=MSFT\n",
    "\n",
    "# Output:\n",
    "\n",
    "#                                     2020-06-30    2019-06-30    2018-06-30     2017-06-30\n",
    "# Intangible Assets                 7.038000e+09  7.750000e+09  8.053000e+09   1.010600e+10\n",
    "# Total Liab                        1.830070e+11  1.842260e+11  1.761300e+11   1.626010e+11\n",
    "# Total Stockholder Equity          1.183040e+11  1.023300e+11  8.271800e+10   8.771100e+10\n",
    "# Other Current Liab                4.600100e+10  4.586000e+10  3.819500e+10   3.087900e+10\n",
    "# Total Assets                      3.013110e+11  2.865560e+11  2.588480e+11   2.503120e+11\n",
    "# Common Stock                      8.055200e+10  7.852000e+10  7.122300e+10   6.931500e+10\n",
    "# Other Current Assets              1.151700e+10  1.013300e+10  6.855000e+09   5.183000e+09\n",
    "# Retained Earnings                 3.456600e+10  2.415000e+10  1.368200e+10   1.776900e+10\n",
    "# Other Liab                        3.449200e+10  3.569900e+10  3.570700e+10   2.298600e+10\n",
    "# Good Will                         4.335100e+10  4.202600e+10  3.568300e+10   3.512200e+10\n",
    "# Treasury Stock                    3.186000e+09 -3.400000e+08 -2.187000e+09   6.270000e+08\n",
    "# Other Assets                      1.313800e+10  1.472300e+10  7.442000e+09   6.076000e+09\n",
    "# Cash                              1.357600e+10  1.135600e+10  1.194600e+10   7.663000e+09\n",
    "# Total Current Liabilities         7.231000e+10  6.942000e+10  5.848800e+10   5.574500e+10\n",
    "# Deferred Long Term Asset Charges  6.405000e+09  7.536000e+09  1.369000e+09   2.480000e+08\n",
    "# Short Long Term Debt              3.749000e+09  5.516000e+09  3.998000e+09   1.049000e+09\n",
    "# Other Stockholder Equity          3.186000e+09 -3.400000e+08 -2.187000e+09   6.270000e+08\n",
    "# Property Plant Equipment          5.290400e+10  4.385600e+10  3.614600e+10   3.028900e+10\n",
    "# Total Current Assets              1.819150e+11  1.755520e+11  1.696620e+11   1.626960e+11\n",
    "# Long Term Investments             2.965000e+09  2.649000e+09  1.862000e+09   6.023000e+09\n",
    "# Net Tangible Assets               6.791500e+10  5.255400e+10  3.898200e+10   4.248300e+10\n",
    "# Short Term Investments            1.229160e+11  1.224760e+11  1.217180e+11   1.252380e+11\n",
    "# Net Receivables                   3.201100e+10  2.952400e+10  2.648100e+10   2.243100e+10\n",
    "# Long Term Debt                    5.957800e+10  6.666200e+10  7.224200e+10   7.607300e+10\n",
    "# Inventory                         1.895000e+09  2.063000e+09  2.662000e+09   2.181000e+09\n",
    "# Accounts Payable                  1.253000e+10  9.382000e+09  8.617000e+09   7.390000e+09       "
   ]
  },
  {
   "cell_type": "code",
   "execution_count": 17,
   "id": "8e788f45",
   "metadata": {
    "code_folding": [
     0
    ]
   },
   "outputs": [],
   "source": [
    "# print(msft.quarterly_balance_sheet)\n",
    "\n",
    "# Output:\n",
    "\n",
    "#                                     2021-03-31    2020-12-31    2020-09-30     2020-06-30\n",
    "# Intangible Assets                 8.127000e+09  6.555000e+09  6.923000e+09   7.038000e+09\n",
    "# Total Liab                        1.743740e+11  1.739010e+11  1.776090e+11   1.830070e+11\n",
    "# Total Stockholder Equity          1.345050e+11  1.302360e+11  1.233920e+11   1.183040e+11\n",
    "# Other Current Liab                4.006900e+10  3.992600e+10  4.299600e+10   4.600100e+10\n",
    "# Total Assets                      3.088790e+11  3.041370e+11  3.010010e+11   3.013110e+11\n",
    "# Common Stock                      8.230800e+10  8.189600e+10  8.108900e+10   8.055200e+10\n",
    "# Other Current Assets              1.203400e+10  1.274800e+10  1.357200e+10   1.151700e+10\n",
    "# Retained Earnings                 5.073500e+10  4.497300e+10  3.919300e+10   3.456600e+10\n",
    "# Other Liab                        3.160100e+10  3.158500e+10  3.317400e+10   3.449200e+10\n",
    "# Good Will                         4.969800e+10  4.421900e+10  4.389000e+10   4.335100e+10\n",
    "# Treasury Stock                    1.462000e+09  3.367000e+09  3.110000e+09   3.186000e+09\n",
    "# Other Assets                      1.442700e+10  1.356100e+10  1.303400e+10   1.313800e+10\n",
    "# Cash                              1.370200e+10  1.443200e+10  1.720500e+10   1.357600e+10\n",
    "# Total Current Liabilities         7.219300e+10  6.748600e+10  7.005600e+10   7.231000e+10\n",
    "# Short Long Term Debt              8.051000e+09  5.387000e+09  6.497000e+09   3.749000e+09\n",
    "# Other Stockholder Equity          1.462000e+09  3.367000e+09  3.110000e+09   3.186000e+09\n",
    "# Property Plant Equipment          6.561800e+10  6.203500e+10  5.697400e+10   5.290400e+10\n",
    "# Total Current Assets              1.656140e+11  1.739730e+11  1.770770e+11   1.819150e+11\n",
    "# Long Term Investments             5.395000e+09  3.794000e+09  3.103000e+09   2.965000e+09\n",
    "# Net Tangible Assets               7.668000e+10  7.946200e+10  7.257900e+10   6.791500e+10\n",
    "# Short Term Investments            1.113110e+11  1.175570e+11  1.207440e+11   1.229160e+11\n",
    "# Net Receivables                   2.632200e+10  2.731200e+10  2.285100e+10   3.201100e+10\n",
    "# Long Term Debt                    5.000700e+10  5.513600e+10  5.705500e+10   5.957800e+10 \n",
    "# Inventory                         2.245000e+09  1.924000e+09  2.705000e+09   1.895000e+09\n",
    "# Accounts Payable                  1.341200e+10  1.277000e+10  1.250900e+10   1.253000e+10\n",
    "# Deferred Long Term Asset Charges           NaN           NaN           NaN   6.405000e+09"
   ]
  },
  {
   "cell_type": "code",
   "execution_count": 18,
   "id": "3d3a211a",
   "metadata": {
    "code_folding": [
     0
    ]
   },
   "outputs": [],
   "source": [
    "# print(msft.cashflow)  # equivalent to https://in.finance.yahoo.com/quote/MSFT/cash-flow?p=MSFT\n",
    "\n",
    "# Output:\n",
    "\n",
    "#                                              2020-06-30    2019-06-30      2018-06-30    2017-06-30\n",
    "# Investments                                6.980000e+09  5.400000e+08    6.557000e+09 -1.251100e+10\n",
    "# Change To Liabilities                      5.230000e+09  4.694000e+09    7.070000e+09  3.901000e+09\n",
    "# Total Cashflows From Investing Activities -1.222300e+10 -1.577300e+10   -6.061000e+09 -4.678100e+10\n",
    "# Net Borrowings                            -5.518000e+09 -4.000000e+09   -1.020100e+10  3.145900e+10\n",
    "# Total Cash From Financing Activities      -4.603100e+10 -3.688700e+10   -3.359000e+10  8.408000e+09\n",
    "# Change To Operating Activities            -6.730000e+08 -1.542000e+09   -4.590000e+08  3.490000e+08\n",
    "# Issuance Of Stock                          1.343000e+09  1.142000e+09    1.002000e+09  7.720000e+08\n",
    "# Net Income                                 4.428100e+10  3.924000e+10    1.657100e+10  2.548900e+10\n",
    "# Change In Cash                             2.220000e+09 -5.900000e+08    4.283000e+09  1.153000e+09\n",
    "# Repurchase Of Stock                       -2.296800e+10 -1.954300e+10   -1.072100e+10 -1.178800e+10\n",
    "# Effect Of Exchange Rate                   -2.010000e+08 -1.150000e+08    5.000000e+07  1.900000e+07\n",
    "# Total Cash From Operating Activities       6.067500e+10  5.218500e+10    4.388400e+10  3.950700e+10\n",
    "# Depreciation                               1.230000e+10  1.160000e+10    9.900000e+09  7.800000e+09\n",
    "# Other Cashflows From Investing Activities -1.241000e+09 -1.241000e+09   -9.800000e+07 -1.970000e+08\n",
    "# Dividends Paid                            -1.513700e+10 -1.381100e+10   -1.269900e+10 -1.184500e+10\n",
    "# Change To Inventory                        1.680000e+08  5.970000e+08   -4.650000e+08  5.000000e+07\n",
    "# Change To Account Receivables             -2.577000e+09 -2.812000e+09   -3.862000e+09 -1.216000e+09\n",
    "# Other Cashflows From Financing Activities -3.751000e+09 -6.750000e+08   -9.710000e+08 -1.900000e+08\n",
    "# Change To Netincome                        5.577000e+09 -2.521000e+09   -3.054000e+09  1.342000e+09\n",
    "# Capital Expenditures                      -1.544100e+10 -1.392500e+10   -1.163200e+10 -8.129000e+09         "
   ]
  },
  {
   "cell_type": "code",
   "execution_count": 19,
   "id": "4e2c9bd3",
   "metadata": {
    "code_folding": [
     0
    ]
   },
   "outputs": [],
   "source": [
    "# print(msft.quarterly_cashflow)\n",
    "\n",
    "# Output:\n",
    "\n",
    "#                                              2021-03-31    2020-12-31      2020-09-30    2020-06-30\n",
    "# Investments                                2.517000e+09  2.593000e+09    2.100000e+09  3.173000e+09\n",
    "# Change To Liabilities                      3.600000e+08 -3.194000e+09   -2.749000e+09  1.180200e+10\n",
    "# Total Cashflows From Investing Activities -9.684000e+09 -1.669000e+09   -5.371000e+09 -4.462000e+09\n",
    "# Net Borrowings                            -5.000000e+08 -3.250000e+09   -3.250000e+09 -3.250000e+09\n",
    "# Total Cash From Financing Activities      -1.319200e+10 -1.363400e+10   -1.028900e+10 -1.226200e+10\n",
    "# Change To Operating Activities             1.305000e+09  1.879000e+09   -2.823000e+09  6.430000e+08\n",
    "# Issuance Of Stock                          3.960000e+08  3.020000e+08    5.450000e+08  3.400000e+08\n",
    "# Net Income                                 1.545700e+10  1.546300e+10    1.389300e+10  1.120200e+10\n",
    "# Change In Cash                            -7.300000e+08 -2.773000e+09    3.629000e+09  1.866000e+09\n",
    "# Repurchase Of Stock                       -6.930000e+09 -6.535000e+09   -6.743000e+09 -5.791000e+09\n",
    "# Effect Of Exchange Rate                   -3.300000e+07  1.400000e+07   -4.600000e+07 -8.300000e+07\n",
    "# Total Cash From Operating Activities       2.217900e+10  1.251600e+10    1.933500e+10  1.867300e+10\n",
    "# Depreciation                               2.936000e+09  2.761000e+09    2.645000e+09  3.008000e+09\n",
    "# Other Cashflows From Investing Activities  4.000000e+08  3.270000e+08   -2.083000e+09 -1.241000e+09\n",
    "# Dividends Paid                            -4.221000e+09 -4.230000e+09   -3.856000e+09 -3.865000e+09\n",
    "# Change To Inventory                       -3.290000e+08  7.880000e+08   -8.080000e+08 -2.510000e+08\n",
    "# Change To Account Receivables              2.900000e+08 -4.008000e+09    8.843000e+09 -9.355000e+09\n",
    "# Other Cashflows From Financing Activities -1.937000e+09  7.900000e+07   -2.350000e+08 -2.946000e+09\n",
    "# Change To Netincome                        1.086000e+09  1.195000e+09    1.317000e+09  2.213000e+09\n",
    "# Capital Expenditures                      -5.089000e+09 -4.174000e+09   -4.907000e+09 -4.744000e+09                     "
   ]
  },
  {
   "cell_type": "code",
   "execution_count": 20,
   "id": "d1c9a1c7",
   "metadata": {
    "code_folding": [
     0
    ]
   },
   "outputs": [],
   "source": [
    "# print(msft.earnings)\n",
    "\n",
    "# Output:\n",
    "\n",
    "#            Revenue     Earnings\n",
    "# Year                           \n",
    "# 2017   96571000000  25489000000\n",
    "# 2018  110360000000  16571000000\n",
    "# 2019  125843000000  39240000000\n",
    "# 2020  143015000000  44281000000"
   ]
  },
  {
   "cell_type": "code",
   "execution_count": null,
   "id": "78b482cf",
   "metadata": {
    "code_folding": [
     0
    ]
   },
   "outputs": [],
   "source": [
    "# print(msft.quarterly_earnings)\n",
    "\n",
    "# Output:\n",
    "\n",
    "#              Revenue     Earnings\n",
    "# Quarter                          \n",
    "# 2Q2020   38033000000  11202000000\n",
    "# 3Q2020   37154000000  13893000000\n",
    "# 4Q2020   43076000000  15463000000\n",
    "# 1Q2021   41706000000  15457000000"
   ]
  },
  {
   "cell_type": "code",
   "execution_count": null,
   "id": "ac988d76",
   "metadata": {
    "code_folding": [
     0
    ]
   },
   "outputs": [],
   "source": [
    "# print(msft.sustainability)\n",
    "\n",
    "# Output:\n",
    "\n",
    "#                                      Value\n",
    "# 2021-5                                    \n",
    "# palmOil                              False\n",
    "# controversialWeapons                 False\n",
    "# gambling                             False\n",
    "# socialScore                           9.37\n",
    "# nuclear                              False\n",
    "# furLeather                           False\n",
    "# alcoholic                            False\n",
    "# gmo                                  False\n",
    "# catholic                             False\n",
    "# socialPercentile                      None\n",
    "# peerCount                              103\n",
    "# governanceScore                       4.83\n",
    "# environmentPercentile                 None\n",
    "# animalTesting                        False\n",
    "# tobacco                              False\n",
    "# totalEsg                             14.63\n",
    "# highestControversy                       3\n",
    "# esgPerformance                  UNDER_PERF\n",
    "# coal                                 False\n",
    "# pesticides                           False\n",
    "# adult                                False\n",
    "# percentile                            7.59\n",
    "# peerGroup              Software & Services\n",
    "# smallArms                            False\n",
    "# environmentScore                      0.42\n",
    "# governancePercentile                  None\n",
    "# militaryContract                     False"
   ]
  },
  {
   "cell_type": "code",
   "execution_count": null,
   "id": "f7079dd8",
   "metadata": {
    "code_folding": [
     0
    ]
   },
   "outputs": [],
   "source": [
    "# print(msft.recommendations)\n",
    "\n",
    "# Output:\n",
    "\n",
    "#                                Firm       To Grade From Grade Action\n",
    "# Date                                                                \n",
    "# 2012-03-16 08:19:00  Argus Research            Buy                up\n",
    "# 2012-03-19 14:00:00  Hilliard Lyons  Long-Term Buy              main\n",
    "# 2012-03-22 07:03:00  Morgan Stanley     Overweight              main\n",
    "# 2012-04-03 11:53:00             UBS            Buy              main\n",
    "# 2012-04-20 06:18:00   Deutsche Bank            Buy              main\n",
    "# ...                             ...            ...        ...    ...\n",
    "# 2021-04-28 13:18:05  Morgan Stanley     Overweight              main\n",
    "# 2021-05-13 11:05:37      Rosenblatt            Buy              init\n",
    "# 2021-05-18 13:39:15       Jefferies            Buy              main\n",
    "# 2021-06-02 12:20:01  KGI Securities     Outperform              init\n",
    "# 2021-06-23 11:22:46         Wedbush     Outperform              main\n",
    "# [330 rows x 4 columns]"
   ]
  },
  {
   "cell_type": "code",
   "execution_count": 21,
   "id": "41cb5088",
   "metadata": {
    "code_folding": [
     0
    ]
   },
   "outputs": [],
   "source": [
    "# print(msft.calendar)\n",
    "\n",
    "# Output:\n",
    "\n",
    "#                                     0                    1\n",
    "# Earnings Date     2021-07-20 00:00:00  2021-07-26 00:00:00\n",
    "# Earnings Average                  1.9                  1.9\n",
    "# Earnings Low                     1.64                 1.64\n",
    "# Earnings High                    2.03                 2.03\n",
    "# Revenue Average           44102900000          44102900000\n",
    "# Revenue Low               40850000000          40850000000\n",
    "# Revenue High              44914700000          44914700000"
   ]
  },
  {
   "cell_type": "code",
   "execution_count": null,
   "id": "50cf0cbb",
   "metadata": {
    "code_folding": [
     0
    ]
   },
   "outputs": [],
   "source": [
    "# msft.isin  # ISIN (International Securities Identification Number) code - *experimental*\n",
    "\n",
    "# Output:\n",
    "\n",
    "# 'US5949181045'"
   ]
  },
  {
   "cell_type": "code",
   "execution_count": null,
   "id": "1f51529e",
   "metadata": {
    "code_folding": [
     0
    ]
   },
   "outputs": [],
   "source": [
    "# print(msft.options)  # options expirations\n",
    "# opt = msft.option_chain('YYYY-MM-DD')  # option chain for specific expiration, available via: opt.calls, opt.puts\n",
    "\n",
    "# Output:\n",
    "\n",
    "# ('2021-07-02', '2021-07-09', '2021-07-16', '2021-07-23', '2021-07-30', '2021-08-06', '2021-08-20', \n",
    "#  '2021-09-17', '2021-10-15', '2021-11-19', '2022-01-21', '2022-03-18', '2022-06-17', '2022-09-16', \n",
    "#  '2023-01-20', '2023-03-17', '2023-06-16')"
   ]
  },
  {
   "cell_type": "code",
   "execution_count": 45,
   "id": "d0ceb9d7",
   "metadata": {},
   "outputs": [
    {
     "name": "stdout",
     "output_type": "stream",
     "text": [
      "Getting data for ABBV... Done in 2.24 seconds!\n",
      "Getting data for ABT... Done in 3.79 seconds!\n",
      "Getting data for AMT... Done in 2.85 seconds!\n",
      "Getting data for AXP... Done in 2.35 seconds!\n",
      "Getting data for BA... Done in 3.71 seconds!\n",
      "Getting data for BAC... Done in 3.81 seconds!\n",
      "Getting data for BLK... Done in 2.95 seconds!\n",
      "Getting data for BMY... Done in 2.21 seconds!\n",
      "Getting data for C... Done in 3.40 seconds!\n",
      "Getting data for CAT... Done in 4.39 seconds!\n",
      "--- Total time: 31.78 seconds\n"
     ]
    }
   ],
   "source": [
    "# ----------- get the data and store to a dataframe\n",
    "\n",
    "LATEST_DATA_IDX = 0  # the first column of dataframe\n",
    "\n",
    "start_time_all = time.time()\n",
    "df_full = pd.DataFrame()\n",
    "\n",
    "# for ticker in tickers_usa_mktcap:\n",
    "for ticker in tickers_usa_mktcap[0:10]:\n",
    "# for ticker in tickers_usa_mktcap[-1:]:  # get 'DASH'\n",
    "    company = yf.Ticker(ticker)\n",
    "#     company = yf.Ticker('MSFT')\n",
    "\n",
    "    start_time = time.time()\n",
    "    print('Getting data for %s... ' % ticker, end=\"\")\n",
    "    \n",
    "    # {'zip', 'sector', 'fullTimeEmployees', 'longBusinessSummary', 'city', 'phone', 'state', 'country',\n",
    "    #  'companyOfficers', 'website', 'maxAge', 'address1', 'industry', 'previousClose', 'regularMarketOpen',\n",
    "    #  'twoHundredDayAverage', 'trailingAnnualDividendYield', 'payoutRatio', 'volume24Hr', 'regularMarketDayHigh',\n",
    "    #  'navPrice', 'averageDailyVolume10Day', 'totalAssets', 'regularMarketPreviousClose', 'fiftyDayAverage',\n",
    "    #  'trailingAnnualDividendRate', 'open', 'toCurrency', 'averageVolume10days', 'expireDate', 'yield', \n",
    "    #  'algorithm', 'dividendRate', 'exDividendDate', 'beta', 'circulatingSupply', 'startDate', \n",
    "    #  'regularMarketDayLow', 'priceHint', 'currency', 'trailingPE', 'regularMarketVolume', 'lastMarket', \n",
    "    #  'maxSupply', 'openInterest', 'marketCap', 'volumeAllCurrencies', 'strikePrice', 'averageVolume', \n",
    "    #  'priceToSalesTrailing12Months', 'dayLow', 'ask', 'ytdReturn', 'askSize', 'volume', 'fiftyTwoWeekHigh', \n",
    "    #  'forwardPE', 'fromCurrency', 'fiveYearAvgDividendYield', 'fiftyTwoWeekLow', 'bid', 'tradeable', \n",
    "    #  'dividendYield', 'bidSize', 'dayHigh', 'exchange', 'shortName', 'longName', 'exchangeTimezoneName', \n",
    "    #  'exchangeTimezoneShortName', 'isEsgPopulated', 'gmtOffSetMilliseconds', 'quoteType', 'symbol', \n",
    "    #  'messageBoardId', 'market', 'annualHoldingsTurnover', 'enterpriseToRevenue', 'beta3Year', 'profitMargins', \n",
    "    #  'enterpriseToEbitda', '52WeekChange', 'morningStarRiskRating', 'forwardEps', 'revenueQuarterlyGrowth', \n",
    "    #  'sharesOutstanding', 'fundInceptionDate', 'annualReportExpenseRatio', 'bookValue', 'sharesShort', \n",
    "    #  'sharesPercentSharesOut', 'fundFamily', 'lastFiscalYearEnd', 'heldPercentInstitutions', 'netIncomeToCommon', \n",
    "    #  'trailingEps', 'lastDividendValue', 'SandP52WeekChange', 'priceToBook', 'heldPercentInsiders', \n",
    "    #  'nextFiscalYearEnd', 'mostRecentQuarter', 'shortRatio', 'sharesShortPreviousMonthDate', 'floatShares', \n",
    "    #  'enterpriseValue', 'threeYearAverageReturn', 'lastSplitDate', 'lastSplitFactor', 'legalType', \n",
    "    #  'lastDividendDate', 'morningStarOverallRating', 'earningsQuarterlyGrowth', 'dateShortInterest', 'pegRatio', \n",
    "    #  'lastCapGain', 'shortPercentOfFloat', 'sharesShortPriorMonth', 'impliedSharesOutstanding', 'category', \n",
    "    #  'fiveYearAverageReturn', 'regularMarketPrice', 'logo_url'}\n",
    "    info = company.info  # is a map\n",
    "    \n",
    "    # [Research Development, Effect Of Accounting Charges, Income Before Tax, Minority Interest, Net Income, \n",
    "    #  Selling General Administrative, Gross Profit, Ebit, Operating Income, Other Operating Expenses, \n",
    "    #  Interest Expense, Extraordinary Items, Non Recurring, Other Items, Income Tax Expense, Total Revenue,\n",
    "    #  Total Operating Expenses, Cost Of Revenue, Total Other Income Expense Net, Discontinued Operations,\n",
    "    #  Net Income From Continuing Ops, Net Income Applicable To Common Shares]\n",
    "    financials = company.financials.iloc[:, LATEST_DATA_IDX]  # company.financials is a dataframe\n",
    "\n",
    "    # [Intangible Assets, Total Liab, Total Stockholder Equity, Other Current Liab, Total Assets, Common Stock,\n",
    "    #  Other Current Assets, Retained Earnings, Other Liab, Good Will, Treasury Stock, Other Assets, Cash,\n",
    "    #  Total Current Liabilities, Deferred Long Term Asset Charges, Short Long Term Debt, Other Stockholder Equity,\n",
    "    #  Property Plant Equipment, Total Current Assets, Long Term Investments, Net Tangible Assets, \n",
    "    #  Short Term Investments, Net Receivables, Long Term Debt, Inventory, Accounts Payable]\n",
    "    balance_sheet = company.balance_sheet.iloc[:, LATEST_DATA_IDX]  # company.balance_sheet is a dataframe\n",
    "    \n",
    "    # [Investments, Change To Liabilities, Total Cashflows From Investing Activities, Net Borrowings,\n",
    "    #  Total Cash From Financing Activities, Change To Operating Activities, Issuance Of Stock, Net Income,\n",
    "    #  Change In Cash, Repurchase Of Stock, Effect Of Exchange Rate, Total Cash From Operating Activities,\n",
    "    #  Depreciation, Other Cashflows From Investing Activities, Dividends Paid, Change To Inventory,\n",
    "    #  Change To Account Receivables, Other Cashflows From Financing Activities, Change To Netincome,\n",
    "    #  Capital Expenditures]\n",
    "    cash_flow = company.cashflow.iloc[:, LATEST_DATA_IDX]  # company.cashflow is a dataframe\n",
    "    \n",
    "    print('Done in %.2f seconds!' % (time.time() - start_time))\n",
    "    \n",
    "    # ----- debug -----\n",
    "    \n",
    "    # check for \"assets\"(s)\n",
    "#     print('info[totalAssets]: %s' % (info['totalAssets']))\n",
    "\n",
    "#     print('balance_sheet[Total Assets]                    : %s millions' % \\\n",
    "#           (balance_sheet['Total Assets'] / ONE_MILLION))\n",
    "#     print('balance_sheet[Total Current Assets]            : %s millions' % \\\n",
    "#           (balance_sheet['Total Current Assets'] / ONE_MILLION))\n",
    "\n",
    "#     print('balance_sheet[Other Assets]                    : %s millions' % \\\n",
    "#           (balance_sheet['Other Assets'] / ONE_MILLION))\n",
    "#     print('balance_sheet[Other Current Assets]            : %s millions' % \\\n",
    "#           (balance_sheet['Other Current Assets'] / ONE_MILLION))\n",
    "\n",
    "#     print('balance_sheet[Net Tangible Assets]             : %s millions' % \\\n",
    "#           (balance_sheet['Net Tangible Assets'] / ONE_MILLION))\n",
    "#     print('balance_sheet[Intangible Assets]               : %s millions' % \\\n",
    "#           (balance_sheet['Intangible Assets'] / ONE_MILLION))\n",
    "\n",
    "#     # print('balance_sheet[Deferred Long Term Asset Charges]: %s millions' % \\\n",
    "#     #       (balance_sheet['Deferred Long Term Asset Charges'] / ONE_MILLION))\n",
    "\n",
    "    # check for \"income\"(s)\n",
    "#     print('info[netIncomeToCommon]                           : %s millions' % \\\n",
    "#           (info['netIncomeToCommon'] / ONE_MILLION))\n",
    "#     print('financials[Net Income]                            : %s millions' % \\\n",
    "#           (financials['Net Income'] / ONE_MILLION))\n",
    "#     print('financials[Net Income From Continuing Ops]        : %s millions' % \\\n",
    "#           (financials['Net Income From Continuing Ops'] / ONE_MILLION))\n",
    "#     print('financials[Net Income Applicable To Common Shares]: %s millions' % \\\n",
    "#           (financials['Net Income Applicable To Common Shares'] / ONE_MILLION))\n",
    "    \n",
    "#     print('financials[Income Before Tax]                     : %s millions' % \\\n",
    "#           (financials['Income Before Tax'] / ONE_MILLION))\n",
    "#     print('financials[Operating Income]                      : %s millions' % \\\n",
    "#           (financials['Operating Income'] / ONE_MILLION))\n",
    "#     print('financials[Income Tax Expense]                    : %s millions' % \\\n",
    "#           (financials['Income Tax Expense'] / ONE_MILLION))\n",
    "#     print('financials[Total Other Income Expense Net]        : %s millions' % \\\n",
    "#           (financials['Total Other Income Expense Net'] / ONE_MILLION))\n",
    "\n",
    "    # check for \"cash\"(s)\n",
    "#     print('cash_flow[Total Cash From Financing Activities]     : %s millions' % \\\n",
    "#           (cash_flow['Total Cash From Financing Activities'] / ONE_MILLION))\n",
    "#     print('cash_flow[Total Cash From Operating Activities]     : %s millions' % \\\n",
    "#           (cash_flow['Total Cash From Operating Activities'] / ONE_MILLION))\n",
    "    \n",
    "#     print('cash_flow[Total Cashflows From Investing Activities]: %s millions' % \\\n",
    "#           (cash_flow['Total Cashflows From Investing Activities'] / ONE_MILLION))\n",
    "    \n",
    "#     print('cash_flow[Other Cashflows From Financing Activities]: %s millions' % \\\n",
    "#           (cash_flow['Other Cashflows From Financing Activities'] / ONE_MILLION))\n",
    "#     print('cash_flow[Other Cashflows From Investing Activities]: %s millions' % \\\n",
    "#           (cash_flow['Other Cashflows From Investing Activities'] / ONE_MILLION))\n",
    "    \n",
    "#     print('cash_flow[Change In Cash]                           : %s millions' % \\\n",
    "#           (cash_flow['Change In Cash'] / ONE_MILLION))\n",
    "\n",
    "    # check for \"dividend\"(s)\n",
    "#     print('info[trailingAnnualDividendYield]: %s' % (info['trailingAnnualDividendYield']))\n",
    "#     print('info[trailingAnnualDividendRate] : %s' % (info['trailingAnnualDividendRate']))\n",
    "    \n",
    "#     print('info[dividendYield]              : %s' % (info['dividendYield']))\n",
    "#     print('info[dividendRate]               : %s' % (info['dividendRate']))\n",
    "    \n",
    "#     print('info[lastDividendValue]          : %s' % (info['lastDividendValue']))\n",
    "#     print('info[lastDividendDate]           : %s' % (info['lastDividendDate']))\n",
    "    \n",
    "#     print('info[exDividendDate]             : %s' % (info['exDividendDate']))\n",
    "#     print('info[fiveYearAvgDividendYield]   : %s' % (info['fiveYearAvgDividendYield']))\n",
    "    \n",
    "    # ----- store necessary fields -----\n",
    "    \n",
    "    # from 'info'\n",
    "    short_name = info['shortName']\n",
    "    enterprise_value = info['enterpriseValue']\n",
    "    market_cap = info['marketCap']\n",
    "    trailing_annual_dividend_yield = info['trailingAnnualDividendYield']  # or 'Forward annual dividend yield'\n",
    "    \n",
    "    # from 'financials'\n",
    "    ebit = financials['Ebit']\n",
    "    net_income_applicable_to_common_shares = \\\n",
    "        financials['Net Income Applicable To Common Shares']  # or 'Net income available to common shareholders'\n",
    "    \n",
    "    # from balance_sheet\n",
    "    total_current_assets = balance_sheet['Total Current Assets']\n",
    "    total_current_liabilities = balance_sheet['Total Current Liabilities']\n",
    "    property_plant_equipment = balance_sheet['Property Plant Equipment']  # or 'Net property, plant and equipment'\n",
    "    total_stockholder_equity = balance_sheet['Total Stockholder Equity']\n",
    "    long_term_debt = balance_sheet.get('Long Term Debt', None)  # not existing for DASH\n",
    "    \n",
    "    # from cash_flow\n",
    "    depreciation = cash_flow['Depreciation']  # or 'Depreciation & amortisation'\n",
    "    total_cash_from_operating_activities = \\\n",
    "        cash_flow['Total Cash From Operating Activities']  # or 'Net cash provided by operating activities'\n",
    "    capital_expenditures = cash_flow.get('Capital Expenditures', None)\n",
    "    \n",
    "    # add the values to a dataframe\n",
    "    df_dict = {\n",
    "        'Symbol': ticker, \n",
    "               \n",
    "        'Name': short_name,\n",
    "        'Enterprise Value': enterprise_value,\n",
    "        'Market Cap': market_cap,\n",
    "        'Trailing Annual Dividend Yield': trailing_annual_dividend_yield,\n",
    "        \n",
    "        'EBIT': ebit, \n",
    "        'Net Income Applicable To Common Shares': net_income_applicable_to_common_shares,\n",
    "        \n",
    "        'Total Current Assets': total_current_assets, \n",
    "        'Total Current Liabilities': total_current_liabilities, \n",
    "        'Property Plant Equipment': property_plant_equipment,\n",
    "        'Total Stockholder Equity': total_stockholder_equity,\n",
    "        'Long Term Debt': long_term_debt,\n",
    "        \n",
    "        'Depreciation': depreciation,\n",
    "        'Total Cash From Operating Activities': total_cash_from_operating_activities,\n",
    "        'Capital Expenditures': capital_expenditures\n",
    "    }    \n",
    "    df = pd.DataFrame(df_dict, index=['1'])\n",
    "    \n",
    "    df_full = df_full.append(df, ignore_index=True)\n",
    "    \n",
    "print('--- Total time: %.2f seconds' % (time.time() - start_time_all))"
   ]
  },
  {
   "cell_type": "code",
   "execution_count": 46,
   "id": "9be3f678",
   "metadata": {},
   "outputs": [
    {
     "name": "stdout",
     "output_type": "stream",
     "text": [
      "Saving data to data.csv... Done in 0.00 seconds!\n"
     ]
    }
   ],
   "source": [
    "# ----------- store dataframe to a CSV file\n",
    "\n",
    "start_time = time.time()\n",
    "print('Saving data to %s... ' % EXPORT_TO_CSV_FILE, end=\"\")\n",
    "\n",
    "df_full.to_csv(EXPORT_TO_CSV_FILE)\n",
    "\n",
    "print('Done in %.2f seconds!' % (time.time() - start_time))  "
   ]
  },
  {
   "cell_type": "code",
   "execution_count": null,
   "id": "f289afe7",
   "metadata": {},
   "outputs": [],
   "source": []
  }
 ],
 "metadata": {
  "kernelspec": {
   "display_name": "Python 3",
   "language": "python",
   "name": "python3"
  },
  "language_info": {
   "codemirror_mode": {
    "name": "ipython",
    "version": 3
   },
   "file_extension": ".py",
   "mimetype": "text/x-python",
   "name": "python",
   "nbconvert_exporter": "python",
   "pygments_lexer": "ipython3",
   "version": "3.9.5"
  }
 },
 "nbformat": 4,
 "nbformat_minor": 5
}
